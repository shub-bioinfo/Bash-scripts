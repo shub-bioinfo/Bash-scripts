{
 "cells": [
  {
   "cell_type": "markdown",
   "metadata": {},
   "source": [
    "# This is for the utillity of the AWK scripts in MD simulation."
   ]
  },
  {
   "cell_type": "code",
   "execution_count": 12,
   "metadata": {},
   "outputs": [
    {
     "name": "stdout",
     "output_type": "stream",
     "text": [
      "ATOM      1 HH31 ACE     1      -2.018  -3.902   0.637  1.00  0.00\r\n",
      "ATOM      2  CH3 ACE     1      -2.018  -2.812   0.637  1.00  0.00\r\n",
      "ATOM      3 HH32 ACE     1      -2.531  -2.448   1.527  1.00  0.00\r\n",
      "ATOM      4 HH33 ACE     1      -2.531  -2.448  -0.253  1.00  0.00\r\n",
      "ATOM      5  C   ACE     1      -0.590  -2.261   0.637  1.00  0.00\r\n",
      "ATOM      6  O   ACE     1       0.373  -3.024   0.637  1.00  0.00\r\n",
      "ATOM      7  N   ALA     2      -0.462  -0.932   0.637  1.00  0.00\r\n",
      "ATOM      8  H   ALA     2      -1.284  -0.346   0.637  1.00  0.00\r\n",
      "ATOM      9  CA  ALA     2       0.836  -0.288   0.637  1.00  0.00\r\n",
      "ATOM     10  HA  ALA     2       1.390  -0.586   1.527  1.00  0.00\r\n"
     ]
    }
   ],
   "source": [
    "!head aladi.pdb"
   ]
  },
  {
   "cell_type": "code",
   "execution_count": 13,
   "metadata": {},
   "outputs": [
    {
     "name": "stdout",
     "output_type": "stream",
     "text": [
      "ATOM     34  H2  WAT     7       5.030  15.221  10.523  1.00  0.00\r\n",
      "TER   \r\n",
      "ATOM     35  O   WAT     8       2.714   5.590   4.339  1.00  0.00\r\n",
      "ATOM     36  H1  WAT     8       1.826   5.932   4.237  1.00  0.00\r\n",
      "ATOM     37  H2  WAT     8       2.998   5.390   3.447  1.00  0.00\r\n",
      "TER   \r\n",
      "ATOM     38  O   WAT     9       0.678   8.191  10.223  1.00  0.00\r\n",
      "ATOM     39  H1  WAT     9       1.249   7.423  10.224  1.00  0.00\r\n",
      "ATOM     40  H2  WAT     9       0.678   8.489   9.314  1.00  0.00\r\n",
      "TER   \r\n"
     ]
    }
   ],
   "source": [
    "!tail aladi.pdb"
   ]
  },
  {
   "cell_type": "markdown",
   "metadata": {},
   "source": [
    "## This will print all the \"CA\" C-alpha atoms in the third column only "
   ]
  },
  {
   "cell_type": "code",
   "execution_count": 15,
   "metadata": {},
   "outputs": [
    {
     "name": "stdout",
     "output_type": "stream",
     "text": [
      "ATOM      9  CA  ALA     2       0.836  -0.288   0.637  1.00  0.00\r\n"
     ]
    }
   ],
   "source": [
    "!awk '$3==\"CA\"' aladi.pdb"
   ]
  },
  {
   "cell_type": "markdown",
   "metadata": {},
   "source": [
    "## Suppose we want to print all the backbone atoms. Then we will use the \"OR\" logical operator."
   ]
  },
  {
   "cell_type": "code",
   "execution_count": 16,
   "metadata": {},
   "outputs": [
    {
     "name": "stdout",
     "output_type": "stream",
     "text": [
      "ATOM      5  C   ACE     1      -0.590  -2.261   0.637  1.00  0.00\r\n",
      "ATOM      7  N   ALA     2      -0.462  -0.932   0.637  1.00  0.00\r\n",
      "ATOM      9  CA  ALA     2       0.836  -0.288   0.637  1.00  0.00\r\n",
      "ATOM     15  C   ALA     2       0.695   1.228   0.637  1.00  0.00\r\n",
      "ATOM     17  N   NME     3       1.828   1.933   0.637  1.00  0.00\r\n"
     ]
    }
   ],
   "source": [
    "!awk '$3==\"CA\"; $3==\"N\"; $3==\"C\"' aladi.pdb"
   ]
  },
  {
   "cell_type": "markdown",
   "metadata": {},
   "source": [
    "## As resid is in 5th column we can fetch any residue of the PDB file."
   ]
  },
  {
   "cell_type": "code",
   "execution_count": 17,
   "metadata": {},
   "outputs": [
    {
     "name": "stdout",
     "output_type": "stream",
     "text": [
      "ATOM      7  N   ALA     2      -0.462  -0.932   0.637  1.00  0.00\r\n",
      "ATOM      8  H   ALA     2      -1.284  -0.346   0.637  1.00  0.00\r\n",
      "ATOM      9  CA  ALA     2       0.836  -0.288   0.637  1.00  0.00\r\n",
      "ATOM     10  HA  ALA     2       1.390  -0.586   1.527  1.00  0.00\r\n",
      "ATOM     11  CB  ALA     2       1.644  -0.681  -0.595  1.00  0.00\r\n",
      "ATOM     12  HB1 ALA     2       1.106  -0.380  -1.494  1.00  0.00\r\n",
      "ATOM     13  HB2 ALA     2       2.613  -0.183  -0.569  1.00  0.00\r\n",
      "ATOM     14  HB3 ALA     2       1.791  -1.761  -0.605  1.00  0.00\r\n",
      "ATOM     15  C   ALA     2       0.695   1.228   0.637  1.00  0.00\r\n",
      "ATOM     16  O   ALA     2      -0.417   1.751   0.637  1.00  0.00\r\n"
     ]
    }
   ],
   "source": [
    "!awk '$5==\"2\"' aladi.pdb"
   ]
  }
 ],
 "metadata": {
  "kernelspec": {
   "display_name": "Python 3",
   "language": "python",
   "name": "python3"
  },
  "language_info": {
   "codemirror_mode": {
    "name": "ipython",
    "version": 3
   },
   "file_extension": ".py",
   "mimetype": "text/x-python",
   "name": "python",
   "nbconvert_exporter": "python",
   "pygments_lexer": "ipython3",
   "version": "3.7.3"
  }
 },
 "nbformat": 4,
 "nbformat_minor": 4
}
