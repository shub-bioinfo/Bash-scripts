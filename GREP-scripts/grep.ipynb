{
 "cells": [
  {
   "cell_type": "markdown",
   "metadata": {},
   "source": [
    "# Grep Scripts for MD simulation"
   ]
  },
  {
   "cell_type": "markdown",
   "metadata": {},
   "source": [
    "#This script will print all atoms \"ATOM\" omitting WATER molecules\n",
    "#To run these scripts in the Linux terminal just run withoug \"!\" sign"
   ]
  },
  {
   "cell_type": "code",
   "execution_count": 29,
   "metadata": {},
   "outputs": [
    {
     "name": "stdout",
     "output_type": "stream",
     "text": [
      "aladi.pdb   forloop.sh\tifloop.sh\t    new\r\n",
      "awk-script  grep.ipynb\tmd_active-stru.gro\r\n"
     ]
    }
   ],
   "source": [
    "!ls"
   ]
  },
  {
   "cell_type": "code",
   "execution_count": 30,
   "metadata": {},
   "outputs": [
    {
     "name": "stdout",
     "output_type": "stream",
     "text": [
      "ATOM      1 HH31 ACE     1      -2.018  -3.902   0.637  1.00  0.00\r\n",
      "ATOM      2  CH3 ACE     1      -2.018  -2.812   0.637  1.00  0.00\r\n",
      "ATOM      3 HH32 ACE     1      -2.531  -2.448   1.527  1.00  0.00\r\n",
      "ATOM      4 HH33 ACE     1      -2.531  -2.448  -0.253  1.00  0.00\r\n",
      "ATOM      5  C   ACE     1      -0.590  -2.261   0.637  1.00  0.00\r\n",
      "ATOM      6  O   ACE     1       0.373  -3.024   0.637  1.00  0.00\r\n",
      "ATOM      7  N   ALA     2      -0.462  -0.932   0.637  1.00  0.00\r\n",
      "ATOM      8  H   ALA     2      -1.284  -0.346   0.637  1.00  0.00\r\n",
      "ATOM      9  CA  ALA     2       0.836  -0.288   0.637  1.00  0.00\r\n",
      "ATOM     10  HA  ALA     2       1.390  -0.586   1.527  1.00  0.00\r\n",
      "ATOM     11  CB  ALA     2       1.644  -0.681  -0.595  1.00  0.00\r\n",
      "ATOM     12  HB1 ALA     2       1.106  -0.380  -1.494  1.00  0.00\r\n",
      "ATOM     13  HB2 ALA     2       2.613  -0.183  -0.569  1.00  0.00\r\n",
      "ATOM     14  HB3 ALA     2       1.791  -1.761  -0.605  1.00  0.00\r\n",
      "ATOM     15  C   ALA     2       0.695   1.228   0.637  1.00  0.00\r\n",
      "ATOM     16  O   ALA     2      -0.417   1.751   0.637  1.00  0.00\r\n",
      "ATOM     17  N   NME     3       1.828   1.933   0.637  1.00  0.00\r\n",
      "ATOM     18  H   NME     3       2.719   1.457   0.637  1.00  0.00\r\n",
      "ATOM     19  CH3 NME     3       1.828   3.382   0.637  1.00  0.00\r\n",
      "ATOM     20 HH31 NME     3       0.801   3.746   0.637  1.00  0.00\r\n",
      "ATOM     21 HH32 NME     3       2.342   3.746   1.527  1.00  0.00\r\n",
      "ATOM     22 HH33 NME     3       2.342   3.746  -0.253  1.00  0.00\r\n",
      "ATOM     23  O   WAT     4      12.157   8.540   7.797  1.00  0.00\r\n",
      "ATOM     24  H1  WAT     4      12.076   7.625   7.526  1.00  0.00\r\n",
      "ATOM     25  H2  WAT     4      11.743   9.037   7.090  1.00  0.00\r\n",
      "ATOM     26  O   WAT     5      10.289  10.318   9.677  1.00  0.00\r\n",
      "ATOM     27  H1  WAT     5       9.513   9.838   9.967  1.00  0.00\r\n",
      "ATOM     28  H2  WAT     5      10.940   9.638   9.503  1.00  0.00\r\n",
      "ATOM     29  O   WAT     6       4.305  10.630  10.555  1.00  0.00\r\n",
      "ATOM     30  H1  WAT     6       3.474  10.375  10.955  1.00  0.00\r\n",
      "ATOM     31  H2  WAT     6       4.913  10.701  11.291  1.00  0.00\r\n",
      "ATOM     32  O   WAT     7       4.285  14.664  10.751  1.00  0.00\r\n",
      "ATOM     33  H1  WAT     7       4.588  13.774  10.572  1.00  0.00\r\n",
      "ATOM     34  H2  WAT     7       5.030  15.221  10.523  1.00  0.00\r\n",
      "ATOM     35  O   WAT     8       2.714   5.590   4.339  1.00  0.00\r\n",
      "ATOM     36  H1  WAT     8       1.826   5.932   4.237  1.00  0.00\r\n",
      "ATOM     37  H2  WAT     8       2.998   5.390   3.447  1.00  0.00\r\n",
      "ATOM     38  O   WAT     9       0.678   8.191  10.223  1.00  0.00\r\n",
      "ATOM     39  H1  WAT     9       1.249   7.423  10.224  1.00  0.00\r\n",
      "ATOM     40  H2  WAT     9       0.678   8.489   9.314  1.00  0.00\r\n"
     ]
    }
   ],
   "source": [
    "!grep \"ATOM\"  aladi.pdb"
   ]
  },
  {
   "cell_type": "markdown",
   "metadata": {},
   "source": [
    "# This will print all \"ALA\" residues with numbering the corresponding lines."
   ]
  },
  {
   "cell_type": "code",
   "execution_count": 32,
   "metadata": {
    "scrolled": true
   },
   "outputs": [
    {
     "name": "stdout",
     "output_type": "stream",
     "text": [
      "1:ATOM      1 HH31 ACE     1      -2.018  -3.902   0.637  1.00  0.00\r\n",
      "2:ATOM      2  CH3 ACE     1      -2.018  -2.812   0.637  1.00  0.00\r\n",
      "3:ATOM      3 HH32 ACE     1      -2.531  -2.448   1.527  1.00  0.00\r\n",
      "4:ATOM      4 HH33 ACE     1      -2.531  -2.448  -0.253  1.00  0.00\r\n",
      "5:ATOM      5  C   ACE     1      -0.590  -2.261   0.637  1.00  0.00\r\n",
      "6:ATOM      6  O   ACE     1       0.373  -3.024   0.637  1.00  0.00\r\n"
     ]
    }
   ],
   "source": [
    "!grep -n \"ACE\" aladi.pdb"
   ]
  },
  {
   "cell_type": "markdown",
   "metadata": {},
   "source": [
    "In this command we will use the pipe command to print the Alanine dipeptide atoms only."
   ]
  },
  {
   "cell_type": "code",
   "execution_count": 31,
   "metadata": {},
   "outputs": [
    {
     "name": "stdout",
     "output_type": "stream",
     "text": [
      "ATOM      1 HH31 ACE     1      -2.018  -3.902   0.637  1.00  0.00\r\n",
      "ATOM      2  CH3 ACE     1      -2.018  -2.812   0.637  1.00  0.00\r\n",
      "ATOM      3 HH32 ACE     1      -2.531  -2.448   1.527  1.00  0.00\r\n",
      "ATOM      4 HH33 ACE     1      -2.531  -2.448  -0.253  1.00  0.00\r\n",
      "ATOM      5  C   ACE     1      -0.590  -2.261   0.637  1.00  0.00\r\n",
      "ATOM      6  O   ACE     1       0.373  -3.024   0.637  1.00  0.00\r\n",
      "ATOM      7  N   ALA     2      -0.462  -0.932   0.637  1.00  0.00\r\n",
      "ATOM      8  H   ALA     2      -1.284  -0.346   0.637  1.00  0.00\r\n",
      "ATOM      9  CA  ALA     2       0.836  -0.288   0.637  1.00  0.00\r\n",
      "ATOM     10  HA  ALA     2       1.390  -0.586   1.527  1.00  0.00\r\n",
      "ATOM     11  CB  ALA     2       1.644  -0.681  -0.595  1.00  0.00\r\n",
      "ATOM     12  HB1 ALA     2       1.106  -0.380  -1.494  1.00  0.00\r\n",
      "ATOM     13  HB2 ALA     2       2.613  -0.183  -0.569  1.00  0.00\r\n",
      "ATOM     14  HB3 ALA     2       1.791  -1.761  -0.605  1.00  0.00\r\n",
      "ATOM     15  C   ALA     2       0.695   1.228   0.637  1.00  0.00\r\n",
      "ATOM     16  O   ALA     2      -0.417   1.751   0.637  1.00  0.00\r\n",
      "ATOM     17  N   NME     3       1.828   1.933   0.637  1.00  0.00\r\n",
      "ATOM     18  H   NME     3       2.719   1.457   0.637  1.00  0.00\r\n",
      "ATOM     19  CH3 NME     3       1.828   3.382   0.637  1.00  0.00\r\n",
      "ATOM     20 HH31 NME     3       0.801   3.746   0.637  1.00  0.00\r\n",
      "ATOM     21 HH32 NME     3       2.342   3.746   1.527  1.00  0.00\r\n",
      "ATOM     22 HH33 NME     3       2.342   3.746  -0.253  1.00  0.00\r\n"
     ]
    }
   ],
   "source": [
    "!grep \"ATOM\" aladi.pdb  | grep -v \"WAT\" "
   ]
  },
  {
   "cell_type": "markdown",
   "metadata": {},
   "source": [
    "#To print all the \"CA\" atoms of a protein only.\n",
    "Here we are considering the before and after space of CA also."
   ]
  },
  {
   "cell_type": "code",
   "execution_count": 33,
   "metadata": {},
   "outputs": [
    {
     "name": "stdout",
     "output_type": "stream",
     "text": [
      "ATOM      9  CA  ALA     2       0.836  -0.288   0.637  1.00  0.00\r\n"
     ]
    }
   ],
   "source": [
    "!grep \" CA \" aladi.pdb "
   ]
  }
 ],
 "metadata": {
  "kernelspec": {
   "display_name": "Python 3",
   "language": "python",
   "name": "python3"
  },
  "language_info": {
   "codemirror_mode": {
    "name": "ipython",
    "version": 3
   },
   "file_extension": ".py",
   "mimetype": "text/x-python",
   "name": "python",
   "nbconvert_exporter": "python",
   "pygments_lexer": "ipython3",
   "version": "3.7.3"
  }
 },
 "nbformat": 4,
 "nbformat_minor": 4
}
